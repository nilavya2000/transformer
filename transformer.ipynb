{
  "nbformat": 4,
  "nbformat_minor": 0,
  "metadata": {
    "colab": {
      "name": "transformer.ipynb",
      "provenance": [],
      "authorship_tag": "ABX9TyMVDYGAYFYujQ6gJ6qLQzoN",
      "include_colab_link": true
    },
    "kernelspec": {
      "name": "python3",
      "display_name": "Python 3"
    },
    "language_info": {
      "name": "python"
    }
  },
  "cells": [
    {
      "cell_type": "markdown",
      "metadata": {
        "id": "view-in-github",
        "colab_type": "text"
      },
      "source": [
        "<a href=\"https://colab.research.google.com/github/nilavya2000/transformer/blob/main/transformer.ipynb\" target=\"_parent\"><img src=\"https://colab.research.google.com/assets/colab-badge.svg\" alt=\"Open In Colab\"/></a>"
      ]
    },
    {
      "cell_type": "code",
      "metadata": {
        "id": "POM6gNE_kyDy"
      },
      "source": [
        "import tensorflow as tf\n",
        "import tensorflow_datasets as tfds \n",
        "import tensorflow_text as text\n",
        "\n",
        "\n",
        "import numpy as np\n",
        "import matplotlib.pyplot as plt\n",
        "\n",
        "import collections\n",
        "import os\n",
        "import logging\n",
        "import pathlib\n",
        "import string\n",
        "import re\n",
        "import sys\n",
        "import time "
      ],
      "execution_count": 3,
      "outputs": []
    },
    {
      "cell_type": "code",
      "metadata": {
        "id": "yg1SdnL7m8va"
      },
      "source": [
        "logging.getLogger('tensorlfow').setLevel(logging.ERROR)"
      ],
      "execution_count": 4,
      "outputs": []
    },
    {
      "cell_type": "code",
      "metadata": {
        "id": "WxtfGRVRoHli"
      },
      "source": [
        "#loading the datasets\n",
        "examples, metadata = tfds.load('ted_hrlr_translate/pt_to_en', with_info=True, as_supervised=True )\n",
        "train_examples, val_examples = examples['train'], examples['validation']\n"
      ],
      "execution_count": 6,
      "outputs": []
    },
    {
      "cell_type": "code",
      "metadata": {
        "colab": {
          "base_uri": "https://localhost:8080/"
        },
        "id": "OCb1OcA-o5UQ",
        "outputId": "7a6b4f65-2ce1-4347-caa5-460be7e5e782"
      },
      "source": [
        "for pt_examples, en_example in train_examples.batch(3).take(1):\n",
        "  for pt in pt_examples.numpy():\n",
        "    print(pt.decode('utf-8'))\n",
        "  print(\"\\n\")\n",
        "  for en in en_example.numpy():\n",
        "    print(en.decode('utf-8'))\n"
      ],
      "execution_count": 10,
      "outputs": [
        {
          "output_type": "stream",
          "text": [
            "e quando melhoramos a procura , tiramos a única vantagem da impressão , que é a serendipidade .\n",
            "mas e se estes fatores fossem ativos ?\n",
            "mas eles não tinham a curiosidade de me testar .\n",
            "\n",
            "\n",
            "and when you improve searchability , you actually take away the one advantage of print , which is serendipity .\n",
            "but what if it were active ?\n",
            "but they did n't test for curiosity .\n"
          ],
          "name": "stdout"
        }
      ]
    },
    {
      "cell_type": "markdown",
      "metadata": {
        "id": "TFi2B32Ir0we"
      },
      "source": [
        "*Text tokenization and detokinization*"
      ]
    },
    {
      "cell_type": "code",
      "metadata": {
        "colab": {
          "base_uri": "https://localhost:8080/",
          "height": 70
        },
        "id": "F2ZVbnclqEtz",
        "outputId": "9ed369da-7a24-4d43-a3d5-af6497b667d2"
      },
      "source": [
        "model_name = \"ted_hrlr_translate_pt_en_converter\"\n",
        "tf.keras.utils.get_file(\n",
        "    f\"{model_name}.zip\",\n",
        "    f'https://storage.googleapis.com/download.tensorflow.org/models/{model_name}.zip' ,\n",
        "    cache_dir='.', cache_subdir='', extract=True\n",
        ")"
      ],
      "execution_count": 14,
      "outputs": [
        {
          "output_type": "stream",
          "text": [
            "Downloading data from https://storage.googleapis.com/download.tensorflow.org/models/ted_hrlr_translate_pt_en_converter.zip\n",
            "188416/184801 [==============================] - 0s 0us/step\n"
          ],
          "name": "stdout"
        },
        {
          "output_type": "execute_result",
          "data": {
            "application/vnd.google.colaboratory.intrinsic+json": {
              "type": "string"
            },
            "text/plain": [
              "'./ted_hrlr_translate_pt_en_converter.zip'"
            ]
          },
          "metadata": {
            "tags": []
          },
          "execution_count": 14
        }
      ]
    },
    {
      "cell_type": "code",
      "metadata": {
        "id": "RXKYgipDs0Hx"
      },
      "source": [
        "tokenizer=tf.saved_model.load(model_name)"
      ],
      "execution_count": 16,
      "outputs": []
    },
    {
      "cell_type": "code",
      "metadata": {
        "colab": {
          "base_uri": "https://localhost:8080/"
        },
        "id": "aMjsotCqtnfd",
        "outputId": "74a7c43e-8857-4832-e872-dac86993057c"
      },
      "source": [
        "[item for item in dir(tokenizer.en) if not item.startswith('_')]"
      ],
      "execution_count": 18,
      "outputs": [
        {
          "output_type": "execute_result",
          "data": {
            "text/plain": [
              "['detokenize',\n",
              " 'get_reserved_tokens',\n",
              " 'get_vocab_path',\n",
              " 'get_vocab_size',\n",
              " 'lookup',\n",
              " 'tokenize',\n",
              " 'tokenizer',\n",
              " 'vocab']"
            ]
          },
          "metadata": {
            "tags": []
          },
          "execution_count": 18
        }
      ]
    },
    {
      "cell_type": "code",
      "metadata": {
        "colab": {
          "base_uri": "https://localhost:8080/"
        },
        "id": "I2bhaU7auCZ-",
        "outputId": "2450b83c-3857-476f-bcc9-3fdf57a366ce"
      },
      "source": [
        "for en in en_example.numpy():\n",
        "  print(en.decode('utf-8'))"
      ],
      "execution_count": 19,
      "outputs": [
        {
          "output_type": "stream",
          "text": [
            "and when you improve searchability , you actually take away the one advantage of print , which is serendipity .\n",
            "but what if it were active ?\n",
            "but they did n't test for curiosity .\n"
          ],
          "name": "stdout"
        }
      ]
    },
    {
      "cell_type": "code",
      "metadata": {
        "colab": {
          "base_uri": "https://localhost:8080/"
        },
        "id": "PMuFXrrqxkLc",
        "outputId": "10ee58c6-c699-4071-b1f6-dcbd58faf9b7"
      },
      "source": [
        "encode = tokenizer.en.tokenize(en_example)\n",
        "for row in encode.to_list():\n",
        "  print(row)"
      ],
      "execution_count": 22,
      "outputs": [
        {
          "output_type": "stream",
          "text": [
            "[2, 72, 117, 79, 1259, 1491, 2362, 13, 79, 150, 184, 311, 71, 103, 2308, 74, 2679, 13, 148, 80, 55, 4840, 1434, 2423, 540, 15, 3]\n",
            "[2, 87, 90, 107, 76, 129, 1852, 30, 3]\n",
            "[2, 87, 83, 149, 50, 9, 56, 664, 85, 2512, 15, 3]\n"
          ],
          "name": "stdout"
        }
      ]
    },
    {
      "cell_type": "code",
      "metadata": {
        "colab": {
          "base_uri": "https://localhost:8080/"
        },
        "id": "4VR8OHjGx0gq",
        "outputId": "6496a3b8-9272-40b9-bfb0-982f8211f74b"
      },
      "source": [
        "round_trip=tokenizer.en.detokenize(encode)\n",
        "for line in round_trip.numpy():\n",
        "  print(\"* \",line)\n",
        "  print()\n",
        "  print(\"->> \",line.decode('utf-8'))\n",
        "  print()"
      ],
      "execution_count": 27,
      "outputs": [
        {
          "output_type": "stream",
          "text": [
            "*  b'and when you improve searchability , you actually take away the one advantage of print , which is serendipity .'\n",
            "\n",
            "->>  and when you improve searchability , you actually take away the one advantage of print , which is serendipity .\n",
            "\n",
            "*  b'but what if it were active ?'\n",
            "\n",
            "->>  but what if it were active ?\n",
            "\n",
            "*  b\"but they did n ' t test for curiosity .\"\n",
            "\n",
            "->>  but they did n ' t test for curiosity .\n",
            "\n"
          ],
          "name": "stdout"
        }
      ]
    },
    {
      "cell_type": "code",
      "metadata": {
        "colab": {
          "base_uri": "https://localhost:8080/"
        },
        "id": "Xky-9G-7yQPC",
        "outputId": "e9c4f787-4463-45e5-9a0a-d0963930c643"
      },
      "source": [
        "#lower_level lookup converts from token-IDS to token text\n",
        "\n",
        "tokens = tokenizer.en.lookup(encode)\n",
        "print(\"tokens \\n \", tokens)"
      ],
      "execution_count": 28,
      "outputs": [
        {
          "output_type": "stream",
          "text": [
            "tokens \n",
            "  <tf.RaggedTensor [[b'[START]', b'and', b'when', b'you', b'improve', b'search', b'##ability', b',', b'you', b'actually', b'take', b'away', b'the', b'one', b'advantage', b'of', b'print', b',', b'which', b'is', b's', b'##ere', b'##nd', b'##ip', b'##ity', b'.', b'[END]'], [b'[START]', b'but', b'what', b'if', b'it', b'were', b'active', b'?', b'[END]'], [b'[START]', b'but', b'they', b'did', b'n', b\"'\", b't', b'test', b'for', b'curiosity', b'.', b'[END]']]>\n"
          ],
          "name": "stdout"
        }
      ]
    },
    {
      "cell_type": "markdown",
      "metadata": {
        "id": "K5VxGdO91gfN"
      },
      "source": [
        "*Set input pipeline*"
      ]
    },
    {
      "cell_type": "code",
      "metadata": {
        "id": "5QT7KLUly5AC"
      },
      "source": [
        "def tokenize_pairs(pt, en):\n",
        "  pt=tokenizer.pt.tokenize(pt)\n",
        "  pt=pt.to_tensor()\n",
        "  \n",
        "  en=tokenizer.en.tokenize(en)\n",
        "  en=en.to_tensor()\n",
        "\n",
        "  return pt, en"
      ],
      "execution_count": 29,
      "outputs": []
    },
    {
      "cell_type": "code",
      "metadata": {
        "id": "2FYex8km2KKL"
      },
      "source": [
        "BUFFER_SIZE = 2000\n",
        "BATCH_SIZE = 64\n"
      ],
      "execution_count": 30,
      "outputs": []
    },
    {
      "cell_type": "code",
      "metadata": {
        "id": "dKd4sI0I2gZp"
      },
      "source": [
        "def make_batch(ds):\n",
        "  return (\n",
        "      ds\n",
        "      .cache()\n",
        "      .shuffle(BUFFER_SIZE)\n",
        "      .batch(BATCH_SIZE)\n",
        "      .map(tokenize_pairs, num_parallel_calls=tf.data.AUTOTUNE)\n",
        "      .prefetch(tf.data.AUTOTUNE)\n",
        "  )\n",
        "\n",
        "train_batchs = make_batch(train_examples)\n",
        "val_batches = make_batch(val_examples)"
      ],
      "execution_count": 31,
      "outputs": []
    },
    {
      "cell_type": "code",
      "metadata": {
        "colab": {
          "base_uri": "https://localhost:8080/"
        },
        "id": "_NHr9uga42eO",
        "outputId": "a0aba232-c802-4627-9183-464db11335e0"
      },
      "source": [
        "train_batchs"
      ],
      "execution_count": 32,
      "outputs": [
        {
          "output_type": "execute_result",
          "data": {
            "text/plain": [
              "<PrefetchDataset shapes: ((None, None), (None, None)), types: (tf.int64, tf.int64)>"
            ]
          },
          "metadata": {
            "tags": []
          },
          "execution_count": 32
        }
      ]
    },
    {
      "cell_type": "code",
      "metadata": {
        "id": "iadC0sxJ5WUZ"
      },
      "source": [
        ""
      ],
      "execution_count": null,
      "outputs": []
    }
  ]
}